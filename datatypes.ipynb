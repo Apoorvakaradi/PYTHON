{
 "cells": [
  {
   "cell_type": "code",
   "execution_count": 28,
   "id": "65bc10be",
   "metadata": {},
   "outputs": [],
   "source": [
    "a=1245                  #integer data type\n",
    "b=0b1111                #binary integer\n",
    "c=0xface                #hexadecimal \n",
    "d=0o176                 #octal\n",
    "d=134.78                #floa\n",
    "e=134e3                \n",
    "f='hey git hub'        #string\n",
    "g=3+4j                 #complex\n",
    "h='hey git hub'        #slice operator on string\n",
    "\n",
    "\n"
   ]
  },
  {
   "cell_type": "code",
   "execution_count": 16,
   "id": "d6d2a127",
   "metadata": {
    "scrolled": true
   },
   "outputs": [
    {
     "name": "stdout",
     "output_type": "stream",
     "text": [
      "1245\n"
     ]
    },
    {
     "data": {
      "text/plain": [
       "int"
      ]
     },
     "execution_count": 16,
     "metadata": {},
     "output_type": "execute_result"
    }
   ],
   "source": [
    "print(a)\n",
    "type(a)\n",
    "\n"
   ]
  },
  {
   "cell_type": "code",
   "execution_count": 17,
   "id": "82dd8d8e",
   "metadata": {},
   "outputs": [
    {
     "name": "stdout",
     "output_type": "stream",
     "text": [
      "15\n"
     ]
    },
    {
     "data": {
      "text/plain": [
       "int"
      ]
     },
     "execution_count": 17,
     "metadata": {},
     "output_type": "execute_result"
    }
   ],
   "source": [
    "print(b)\n",
    "type(b)\n"
   ]
  },
  {
   "cell_type": "code",
   "execution_count": 18,
   "id": "d35dbf86",
   "metadata": {},
   "outputs": [
    {
     "name": "stdout",
     "output_type": "stream",
     "text": [
      "64206\n"
     ]
    },
    {
     "data": {
      "text/plain": [
       "int"
      ]
     },
     "execution_count": 18,
     "metadata": {},
     "output_type": "execute_result"
    }
   ],
   "source": [
    "print(c)\n",
    "type(c)\n"
   ]
  },
  {
   "cell_type": "code",
   "execution_count": 19,
   "id": "6c02dd8d",
   "metadata": {},
   "outputs": [
    {
     "name": "stdout",
     "output_type": "stream",
     "text": [
      "134.78\n"
     ]
    },
    {
     "data": {
      "text/plain": [
       "float"
      ]
     },
     "execution_count": 19,
     "metadata": {},
     "output_type": "execute_result"
    }
   ],
   "source": [
    "print(d)\n",
    "type(d)"
   ]
  },
  {
   "cell_type": "code",
   "execution_count": 20,
   "id": "526ebe62",
   "metadata": {},
   "outputs": [
    {
     "name": "stdout",
     "output_type": "stream",
     "text": [
      "134000.0\n"
     ]
    },
    {
     "data": {
      "text/plain": [
       "float"
      ]
     },
     "execution_count": 20,
     "metadata": {},
     "output_type": "execute_result"
    }
   ],
   "source": [
    "print(e)\n",
    "type(e)"
   ]
  },
  {
   "cell_type": "code",
   "execution_count": 21,
   "id": "c3e4b1f5",
   "metadata": {},
   "outputs": [
    {
     "name": "stdout",
     "output_type": "stream",
     "text": [
      "hey git hub\n"
     ]
    },
    {
     "data": {
      "text/plain": [
       "str"
      ]
     },
     "execution_count": 21,
     "metadata": {},
     "output_type": "execute_result"
    }
   ],
   "source": [
    "print(f)\n",
    "type(f)"
   ]
  },
  {
   "cell_type": "code",
   "execution_count": 22,
   "id": "b0c1ee3b",
   "metadata": {},
   "outputs": [
    {
     "name": "stdout",
     "output_type": "stream",
     "text": [
      "(3+4j)\n"
     ]
    },
    {
     "data": {
      "text/plain": [
       "4.0"
      ]
     },
     "execution_count": 22,
     "metadata": {},
     "output_type": "execute_result"
    }
   ],
   "source": [
    "print(g)\n",
    "type(g)\n",
    "g.real\n",
    "g.imag"
   ]
  },
  {
   "cell_type": "code",
   "execution_count": 23,
   "id": "1a17cada",
   "metadata": {},
   "outputs": [
    {
     "data": {
      "text/plain": [
       "4.0"
      ]
     },
     "execution_count": 23,
     "metadata": {},
     "output_type": "execute_result"
    }
   ],
   "source": [
    "g.real\n",
    "g.imag"
   ]
  },
  {
   "cell_type": "code",
   "execution_count": 25,
   "id": "b13eebbc",
   "metadata": {},
   "outputs": [
    {
     "data": {
      "text/plain": [
       "'y'"
      ]
     },
     "execution_count": 25,
     "metadata": {},
     "output_type": "execute_result"
    }
   ],
   "source": [
    "h[2]  #index number 2\n"
   ]
  },
  {
   "cell_type": "code",
   "execution_count": 26,
   "id": "c21f54cc",
   "metadata": {},
   "outputs": [
    {
     "data": {
      "text/plain": [
       "'y g'"
      ]
     },
     "execution_count": 26,
     "metadata": {},
     "output_type": "execute_result"
    }
   ],
   "source": [
    "h[2:5]  # from index number 2 to 5"
   ]
  },
  {
   "cell_type": "code",
   "execution_count": 29,
   "id": "d5d807bf",
   "metadata": {},
   "outputs": [
    {
     "data": {
      "text/plain": [
       "'ey git hub'"
      ]
     },
     "execution_count": 29,
     "metadata": {},
     "output_type": "execute_result"
    }
   ],
   "source": [
    "h[1:] # from index number 1 to 5"
   ]
  },
  {
   "cell_type": "code",
   "execution_count": 30,
   "id": "9bca374c",
   "metadata": {},
   "outputs": [
    {
     "data": {
      "text/plain": [
       "'hey '"
      ]
     },
     "execution_count": 30,
     "metadata": {},
     "output_type": "execute_result"
    }
   ],
   "source": [
    "h[:4] # from index number 0 to 4"
   ]
  },
  {
   "cell_type": "code",
   "execution_count": 31,
   "id": "df894b99",
   "metadata": {},
   "outputs": [
    {
     "data": {
      "text/plain": [
       "'e i u'"
      ]
     },
     "execution_count": 31,
     "metadata": {},
     "output_type": "execute_result"
    }
   ],
   "source": [
    "h[1:10:2]  # from index number 1 to 10 with step 2"
   ]
  },
  {
   "cell_type": "code",
   "execution_count": 32,
   "id": "90f47ad8",
   "metadata": {},
   "outputs": [
    {
     "data": {
      "text/plain": [
       "'hey git hubhey git hubhey git hubhey git hubhey git hubhey git hubhey git hubhey git hubhey git hubhey git hub'"
      ]
     },
     "execution_count": 32,
     "metadata": {},
     "output_type": "execute_result"
    }
   ],
   "source": [
    "h*10 # repetition operator"
   ]
  },
  {
   "cell_type": "code",
   "execution_count": 34,
   "id": "25d03c4c",
   "metadata": {},
   "outputs": [
    {
     "data": {
      "text/plain": [
       "11"
      ]
     },
     "execution_count": 34,
     "metadata": {},
     "output_type": "execute_result"
    }
   ],
   "source": [
    "len(h) # length of string"
   ]
  }
 ],
 "metadata": {
  "kernelspec": {
   "display_name": "Python 3 (ipykernel)",
   "language": "python",
   "name": "python3"
  },
  "language_info": {
   "codemirror_mode": {
    "name": "ipython",
    "version": 3
   },
   "file_extension": ".py",
   "mimetype": "text/x-python",
   "name": "python",
   "nbconvert_exporter": "python",
   "pygments_lexer": "ipython3",
   "version": "3.9.12"
  }
 },
 "nbformat": 4,
 "nbformat_minor": 5
}
