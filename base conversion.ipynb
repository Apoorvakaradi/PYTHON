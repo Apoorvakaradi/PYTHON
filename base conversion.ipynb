{
 "cells": [
  {
   "cell_type": "code",
   "execution_count": 2,
   "id": "d16166b3",
   "metadata": {},
   "outputs": [],
   "source": [
    "a=0b1110\n",
    "b=0o1445\n",
    "c=0xface\n",
    "d=14458\n"
   ]
  },
  {
   "cell_type": "code",
   "execution_count": null,
   "id": "5410044d",
   "metadata": {},
   "outputs": [],
   "source": [
    "#any other base to binary conversion"
   ]
  },
  {
   "cell_type": "code",
   "execution_count": 3,
   "id": "339fc54e",
   "metadata": {},
   "outputs": [
    {
     "data": {
      "text/plain": [
       "'0b1100100101'"
      ]
     },
     "execution_count": 3,
     "metadata": {},
     "output_type": "execute_result"
    }
   ],
   "source": [
    "bin(0o1445) #octal to binary"
   ]
  },
  {
   "cell_type": "code",
   "execution_count": 4,
   "id": "ea2e1dd5",
   "metadata": {},
   "outputs": [
    {
     "data": {
      "text/plain": [
       "'0b1111101011001110'"
      ]
     },
     "execution_count": 4,
     "metadata": {},
     "output_type": "execute_result"
    }
   ],
   "source": [
    "bin(0xface) #hexadecimal to binary"
   ]
  },
  {
   "cell_type": "code",
   "execution_count": 5,
   "id": "88c425f6",
   "metadata": {},
   "outputs": [
    {
     "data": {
      "text/plain": [
       "'0b11100001111010'"
      ]
     },
     "execution_count": 5,
     "metadata": {},
     "output_type": "execute_result"
    }
   ],
   "source": [
    "bin(14458) #decimal to binary"
   ]
  },
  {
   "cell_type": "code",
   "execution_count": null,
   "id": "81652234",
   "metadata": {},
   "outputs": [],
   "source": [
    "#any other base to octal conversion"
   ]
  },
  {
   "cell_type": "code",
   "execution_count": 6,
   "id": "bd5e5fcc",
   "metadata": {},
   "outputs": [
    {
     "data": {
      "text/plain": [
       "'0o16'"
      ]
     },
     "execution_count": 6,
     "metadata": {},
     "output_type": "execute_result"
    }
   ],
   "source": [
    "oct(0b1110) # binary to octal"
   ]
  },
  {
   "cell_type": "code",
   "execution_count": 7,
   "id": "30b48d1a",
   "metadata": {},
   "outputs": [
    {
     "data": {
      "text/plain": [
       "'0o175316'"
      ]
     },
     "execution_count": 7,
     "metadata": {},
     "output_type": "execute_result"
    }
   ],
   "source": [
    "oct(0xface)  #hexadecimal to octal"
   ]
  },
  {
   "cell_type": "code",
   "execution_count": 9,
   "id": "c29b2981",
   "metadata": {},
   "outputs": [
    {
     "data": {
      "text/plain": [
       "'0o34172'"
      ]
     },
     "execution_count": 9,
     "metadata": {},
     "output_type": "execute_result"
    }
   ],
   "source": [
    "oct(14458) # decimal to hexadecimal"
   ]
  },
  {
   "cell_type": "code",
   "execution_count": null,
   "id": "5c80c00e",
   "metadata": {},
   "outputs": [],
   "source": [
    "#any other base to hexadecimal conversion"
   ]
  },
  {
   "cell_type": "code",
   "execution_count": 10,
   "id": "f645f255",
   "metadata": {},
   "outputs": [
    {
     "data": {
      "text/plain": [
       "'0xe'"
      ]
     },
     "execution_count": 10,
     "metadata": {},
     "output_type": "execute_result"
    }
   ],
   "source": [
    "hex(0b1110) #binary to hex"
   ]
  },
  {
   "cell_type": "code",
   "execution_count": 11,
   "id": "85054d9b",
   "metadata": {},
   "outputs": [
    {
     "data": {
      "text/plain": [
       "'0x325'"
      ]
     },
     "execution_count": 11,
     "metadata": {},
     "output_type": "execute_result"
    }
   ],
   "source": [
    "hex(0o1445) #octal to hex"
   ]
  },
  {
   "cell_type": "code",
   "execution_count": 12,
   "id": "eef9cf7c",
   "metadata": {},
   "outputs": [
    {
     "data": {
      "text/plain": [
       "'0x387a'"
      ]
     },
     "execution_count": 12,
     "metadata": {},
     "output_type": "execute_result"
    }
   ],
   "source": [
    "hex(14458) #decimal to hex"
   ]
  }
 ],
 "metadata": {
  "kernelspec": {
   "display_name": "Python 3 (ipykernel)",
   "language": "python",
   "name": "python3"
  },
  "language_info": {
   "codemirror_mode": {
    "name": "ipython",
    "version": 3
   },
   "file_extension": ".py",
   "mimetype": "text/x-python",
   "name": "python",
   "nbconvert_exporter": "python",
   "pygments_lexer": "ipython3",
   "version": "3.9.12"
  }
 },
 "nbformat": 4,
 "nbformat_minor": 5
}
